{
 "cells": [
  {
   "cell_type": "code",
   "execution_count": 3,
   "metadata": {},
   "outputs": [
    {
     "ename": "ModuleNotFoundError",
     "evalue": "No module named 'pandas'",
     "output_type": "error",
     "traceback": [
      "\u001b[0;31m---------------------------------------------------------------------------\u001b[0m",
      "\u001b[0;31mModuleNotFoundError\u001b[0m                       Traceback (most recent call last)",
      "Cell \u001b[0;32mIn[3], line 1\u001b[0m\n\u001b[0;32m----> 1\u001b[0m \u001b[38;5;28;01mimport\u001b[39;00m \u001b[38;5;21;01mpandas\u001b[39;00m \u001b[38;5;28;01mas\u001b[39;00m \u001b[38;5;21;01mpd\u001b[39;00m\n\u001b[1;32m      2\u001b[0m \u001b[38;5;28;01mimport\u001b[39;00m \u001b[38;5;21;01mnumpy\u001b[39;00m \u001b[38;5;28;01mas\u001b[39;00m \u001b[38;5;21;01mnp\u001b[39;00m\n\u001b[1;32m      3\u001b[0m \u001b[38;5;28;01mimport\u001b[39;00m \u001b[38;5;21;01mmatplotlib\u001b[39;00m\u001b[38;5;21;01m.\u001b[39;00m\u001b[38;5;21;01mpyplot\u001b[39;00m \u001b[38;5;28;01mas\u001b[39;00m \u001b[38;5;21;01mplt\u001b[39;00m \n",
      "\u001b[0;31mModuleNotFoundError\u001b[0m: No module named 'pandas'"
     ]
    }
   ],
   "source": [
    "import pandas as pd\n",
    "import numpy as np\n",
    "import matplotlib.pyplot as plt \n",
    "import codecademylib3_seaborn \n",
    "\n",
    "coffee = pd.read_csv('starbucks_customers.csv')\n",
    "\n",
    "ages = coffee['age']\n",
    "min_age = ages.min()\n",
    "max_age = ages.max()\n",
    "mean_age = ages.mean()\n",
    "centered_ages = ages - mean_age\n",
    "plt.hist(centered_ages)\n",
    "plt.show()\n",
    "print(min_age)\n",
    "print(max_age)\n",
    "print(max_age - min_age)\n",
    "print(mean_age)\n",
    "print(centered_ages)\n"
   ]
  },
  {
   "cell_type": "markdown",
   "metadata": {},
   "source": []
  },
  {
   "cell_type": "code",
   "execution_count": null,
   "metadata": {},
   "outputs": [],
   "source": []
  },
  {
   "cell_type": "markdown",
   "metadata": {},
   "source": [
    "Standardization (also known as Z-Score normalization) is when we center our data, then divide it by the standard deviation.\n"
   ]
  },
  {
   "cell_type": "code",
   "execution_count": null,
   "metadata": {},
   "outputs": [],
   "source": [
    "import pandas as pd #powerful tool for data manipulation and analysis. It is used here to read a CSV file and work with dataframes.\n",
    "import numpy as np #fundamental for scientific computing with Python. It provides support for arrays, mathematical operations, and statistics.\n",
    "\n",
    "coffee = pd.read_csv('starbucks_customers.csv')\n",
    "ages = coffee['age']\n",
    "\n",
    "## set up your variables\n",
    "mean_age = np.mean(ages)\n",
    "std_dev_age =np.std(ages)\n",
    "\n",
    "\n",
    "## standardize ages\n",
    "ages_standardized = (ages - mean_age)/std_dev_age #Standardization is a technique to scale your data in such a way that they have a mean of 0 and a standard deviation of 1\n",
    "\n",
    "## print the results \n",
    "print(np.mean(ages_standardized)) \n",
    "#Prints the mean of the standardized ages. After standardization, the mean should be very close to 0, which is expected as we have shifted our data points based on the original mean.\n",
    "print(np.std(ages_standardized))\n",
    "#Prints the standard deviation of the standardized ages. After standardization, the standard deviation should be 1, indicating that the data points are now scaled in terms of how many standard deviations away they are from the mean."
   ]
  },
  {
   "cell_type": "code",
   "execution_count": null,
   "metadata": {},
   "outputs": [],
   "source": [
    "import pandas as pd\n",
    "import numpy as np\n",
    "from sklearn.preprocessing import StandardScaler \n",
    "\n",
    "coffee = pd.read_csv('starbucks_customers.csv')\n",
    "ages = coffee['age']\n",
    "\n",
    "#Instantiate StandardScaler by creating a variable named scaler\n",
    "scaler = StandardScaler()\n",
    "#Reshape our ages feature and set the result to a variable named ages_reshaped\n",
    "ages_reshaped = np.array(ages).reshape(-1,1)\n",
    "# perform a .fit_transform on our ages_reshaped feature and set the results to the variable named ages_scaled\n",
    "ages_scaled = scaler.fit_transform(ages_reshaped)\n",
    "#Print the mean and standard deviation of your new variable ages_scaled\n",
    "print(np.mean(ages_scaled))\n",
    "print(np.std(ages_scaled))"
   ]
  },
  {
   "cell_type": "code",
   "execution_count": null,
   "metadata": {},
   "outputs": [],
   "source": [
    "import pandas as pd\n",
    "import numpy as np\n",
    "\n",
    "coffee = pd.read_csv('starbucks_customers.csv')\n",
    "\n",
    "## add code below\n",
    "## get spent feature\n",
    "spent = coffee[\"spent\"]\n",
    "\n",
    "#find the max spent\n",
    "max_spent = np.max(spent)\n",
    "\n",
    "#find the min spent\n",
    "min_spent = np.min(spent)\n",
    "\n",
    "#find the difference\n",
    "spent_range = max_spent - min_spent\n",
    "\n",
    "#normalize your spent feature\n",
    "spent_normalized = (spent - min_spent)/spent_range\n",
    "\n",
    "#print your results\n",
    "print(spent_normalized)"
   ]
  },
  {
   "cell_type": "code",
   "execution_count": null,
   "metadata": {},
   "outputs": [],
   "source": [
    "import pandas as pd\n",
    "import numpy as np\n",
    "from sklearn.preprocessing import MinMaxScaler\n",
    "\n",
    "coffee = pd.read_csv('starbucks_customers.csv')\n",
    "spent = coffee['spent']\n",
    "\n",
    "#reshape our array to prepare it for the mmscaler\n",
    "spent_reshaped = np.array(spent).reshape(-1, 1)\n",
    "\n",
    "#Instantiate MinMaxScaler and set the variable equal to mmscaler\n",
    "mmscaler = MinMaxScaler()\n",
    "reshaped_scaled = mmscaler.fit_transform(spent_reshaped)\n",
    "#Print the minimum and maximum number from your new normalized array named reshaped_scaled. Do they equal 0 and 1?\n",
    "print(np.min(reshaped_scaled))\n",
    "print(np.max(reshaped_scaled))\n",
    "#0.0\n",
    "#1.0"
   ]
  },
  {
   "cell_type": "code",
   "execution_count": null,
   "metadata": {},
   "outputs": [],
   "source": [
    "import pandas as pd\n",
    "import numpy as np\n",
    "import matplotlib.pyplot as plt\n",
    "import codecademylib3_seaborn \n",
    "\n",
    "coffee = pd.read_csv('starbucks_customers.csv')\n",
    "ages = coffee['age']\n",
    "#Print the age features min and max values.\n",
    "print(np.min(ages)) #13\n",
    "print(np.max(ages)) #70\n",
    "#Based on our results from above, let’s set the bin boundaries. Store it as a variable called age_bins and use the following limits [12, 20, 30, 40, 71]\n",
    "age_bins = [12, 20, 30, 40, 71]\n",
    "#Create new binned column with pd.cut(). Name the new column binned_ages\n",
    "coffee['binned_ages'] = pd.cut(coffee['age'], age_bins, right = False)\n",
    "#Print the first 10 rows of the new column binned_ages\n",
    "print(coffee['binned_ages'].head(10))\n",
    "#Plot a bar graph of new binned data.\n",
    "coffee['binned_ages'].value_counts().plot(kind ='bar')\n",
    "# Label the bar graph \n",
    "plt.title('Starbucks Age Distribution')\n",
    "plt.xlabel('Binned Ages')\n",
    "plt.ylabel('Count') \n",
    "plt.show()\n",
    "#Name: binned_ages, dtype: category\n",
    "#Categories (4, interval[int64]): [[12, 20) < [20, 30) < [30, 40) < [40, 71)]\n"
   ]
  }
 ],
 "metadata": {
  "kernelspec": {
   "display_name": "Python 3",
   "language": "python",
   "name": "python3"
  },
  "language_info": {
   "codemirror_mode": {
    "name": "ipython",
    "version": 3
   },
   "file_extension": ".py",
   "mimetype": "text/x-python",
   "name": "python",
   "nbconvert_exporter": "python",
   "pygments_lexer": "ipython3",
   "version": "3.10.13"
  }
 },
 "nbformat": 4,
 "nbformat_minor": 2
}
